{
 "cells": [
  {
   "cell_type": "code",
   "execution_count": 1,
   "id": "80c324fe",
   "metadata": {},
   "outputs": [],
   "source": [
    "import pandas as pd\n",
    "import numpy as np\n",
    "import numpy as np\n",
    "from sklearn.linear_model import LinearRegression\n",
    "from statsmodels.api import OLS\n",
    "import matplotlib.pyplot as plt\n",
    "import seaborn as sns"
   ]
  },
  {
   "cell_type": "code",
   "execution_count": 2,
   "id": "fc478e9d",
   "metadata": {},
   "outputs": [],
   "source": [
    "data = pd.read_csv('Sample Media Spend Data.csv')"
   ]
  },
  {
   "cell_type": "markdown",
   "id": "c2c13d67",
   "metadata": {},
   "source": [
    "# EXPLORATORY ANALYSIS OF DATA:"
   ]
  },
  {
   "cell_type": "markdown",
   "id": "5c8d581b",
   "metadata": {},
   "source": [
    "### VISUALIZE THE DATASET"
   ]
  },
  {
   "cell_type": "code",
   "execution_count": 3,
   "id": "f25d6b8a",
   "metadata": {},
   "outputs": [
    {
     "name": "stdout",
     "output_type": "stream",
     "text": [
      "  Division Calendar_Week  Paid_Views  Organic_Views  Google_Impressions  \\\n",
      "0        A      1/6/2018         392            422                 408   \n",
      "1        A     1/13/2018         787            904                 110   \n",
      "2        A     1/20/2018          81            970                 742   \n",
      "3        A     1/27/2018          25            575                  65   \n",
      "4        A      2/3/2018         565            284                 295   \n",
      "\n",
      "   Email_Impressions  Facebook_Impressions  Affiliate_Impressions  \\\n",
      "0        349895.0107                 73580                  12072   \n",
      "1        506270.2176                 11804                   9499   \n",
      "2        430042.1538                 52232                  17048   \n",
      "3        417745.6658                 78640                  10207   \n",
      "4        408505.8012                 40561                   5834   \n",
      "\n",
      "   Overall_Views  Sales  \n",
      "0            682  59417  \n",
      "1            853  56806  \n",
      "2            759  48715  \n",
      "3            942  72047  \n",
      "4            658  56235  \n"
     ]
    }
   ],
   "source": [
    "print(data.head(5))"
   ]
  },
  {
   "cell_type": "code",
   "execution_count": 4,
   "id": "f36b8873",
   "metadata": {},
   "outputs": [
    {
     "data": {
      "text/html": [
       "<div>\n",
       "<style scoped>\n",
       "    .dataframe tbody tr th:only-of-type {\n",
       "        vertical-align: middle;\n",
       "    }\n",
       "\n",
       "    .dataframe tbody tr th {\n",
       "        vertical-align: top;\n",
       "    }\n",
       "\n",
       "    .dataframe thead th {\n",
       "        text-align: right;\n",
       "    }\n",
       "</style>\n",
       "<table border=\"1\" class=\"dataframe\">\n",
       "  <thead>\n",
       "    <tr style=\"text-align: right;\">\n",
       "      <th></th>\n",
       "      <th>Paid_Views</th>\n",
       "      <th>Organic_Views</th>\n",
       "      <th>Google_Impressions</th>\n",
       "      <th>Email_Impressions</th>\n",
       "      <th>Facebook_Impressions</th>\n",
       "      <th>Affiliate_Impressions</th>\n",
       "      <th>Overall_Views</th>\n",
       "      <th>Sales</th>\n",
       "    </tr>\n",
       "  </thead>\n",
       "  <tbody>\n",
       "    <tr>\n",
       "      <th>count</th>\n",
       "      <td>3051.000000</td>\n",
       "      <td>3051.000000</td>\n",
       "      <td>3.051000e+03</td>\n",
       "      <td>3.051000e+03</td>\n",
       "      <td>3.051000e+03</td>\n",
       "      <td>3051.000000</td>\n",
       "      <td>3051.000000</td>\n",
       "      <td>3.051000e+03</td>\n",
       "    </tr>\n",
       "    <tr>\n",
       "      <th>mean</th>\n",
       "      <td>15093.941658</td>\n",
       "      <td>13355.673222</td>\n",
       "      <td>8.861738e+05</td>\n",
       "      <td>7.605094e+05</td>\n",
       "      <td>2.691269e+05</td>\n",
       "      <td>22910.902655</td>\n",
       "      <td>27980.914127</td>\n",
       "      <td>1.859014e+05</td>\n",
       "    </tr>\n",
       "    <tr>\n",
       "      <th>std</th>\n",
       "      <td>30785.884979</td>\n",
       "      <td>24079.399689</td>\n",
       "      <td>1.355076e+06</td>\n",
       "      <td>6.260141e+05</td>\n",
       "      <td>4.665117e+05</td>\n",
       "      <td>21617.637497</td>\n",
       "      <td>52054.976687</td>\n",
       "      <td>2.322079e+05</td>\n",
       "    </tr>\n",
       "    <tr>\n",
       "      <th>min</th>\n",
       "      <td>1.000000</td>\n",
       "      <td>1.000000</td>\n",
       "      <td>7.000000e+00</td>\n",
       "      <td>4.089445e+04</td>\n",
       "      <td>2.900000e+01</td>\n",
       "      <td>910.000000</td>\n",
       "      <td>2.000000</td>\n",
       "      <td>1.543600e+04</td>\n",
       "    </tr>\n",
       "    <tr>\n",
       "      <th>25%</th>\n",
       "      <td>537.000000</td>\n",
       "      <td>712.500000</td>\n",
       "      <td>1.698280e+05</td>\n",
       "      <td>3.784969e+05</td>\n",
       "      <td>5.707350e+04</td>\n",
       "      <td>9127.000000</td>\n",
       "      <td>747.000000</td>\n",
       "      <td>7.339350e+04</td>\n",
       "    </tr>\n",
       "    <tr>\n",
       "      <th>50%</th>\n",
       "      <td>2699.000000</td>\n",
       "      <td>4110.000000</td>\n",
       "      <td>4.905310e+05</td>\n",
       "      <td>5.909708e+05</td>\n",
       "      <td>1.275230e+05</td>\n",
       "      <td>16658.000000</td>\n",
       "      <td>7879.000000</td>\n",
       "      <td>1.135730e+05</td>\n",
       "    </tr>\n",
       "    <tr>\n",
       "      <th>75%</th>\n",
       "      <td>17358.000000</td>\n",
       "      <td>16230.500000</td>\n",
       "      <td>1.022622e+06</td>\n",
       "      <td>9.622466e+05</td>\n",
       "      <td>2.835050e+05</td>\n",
       "      <td>27486.500000</td>\n",
       "      <td>34111.500000</td>\n",
       "      <td>2.029755e+05</td>\n",
       "    </tr>\n",
       "    <tr>\n",
       "      <th>max</th>\n",
       "      <td>518190.000000</td>\n",
       "      <td>270453.000000</td>\n",
       "      <td>1.715044e+07</td>\n",
       "      <td>7.317730e+06</td>\n",
       "      <td>7.558435e+06</td>\n",
       "      <td>175791.000000</td>\n",
       "      <td>635057.000000</td>\n",
       "      <td>3.575430e+06</td>\n",
       "    </tr>\n",
       "  </tbody>\n",
       "</table>\n",
       "</div>"
      ],
      "text/plain": [
       "          Paid_Views  Organic_Views  Google_Impressions  Email_Impressions  \\\n",
       "count    3051.000000    3051.000000        3.051000e+03       3.051000e+03   \n",
       "mean    15093.941658   13355.673222        8.861738e+05       7.605094e+05   \n",
       "std     30785.884979   24079.399689        1.355076e+06       6.260141e+05   \n",
       "min         1.000000       1.000000        7.000000e+00       4.089445e+04   \n",
       "25%       537.000000     712.500000        1.698280e+05       3.784969e+05   \n",
       "50%      2699.000000    4110.000000        4.905310e+05       5.909708e+05   \n",
       "75%     17358.000000   16230.500000        1.022622e+06       9.622466e+05   \n",
       "max    518190.000000  270453.000000        1.715044e+07       7.317730e+06   \n",
       "\n",
       "       Facebook_Impressions  Affiliate_Impressions  Overall_Views  \\\n",
       "count          3.051000e+03            3051.000000    3051.000000   \n",
       "mean           2.691269e+05           22910.902655   27980.914127   \n",
       "std            4.665117e+05           21617.637497   52054.976687   \n",
       "min            2.900000e+01             910.000000       2.000000   \n",
       "25%            5.707350e+04            9127.000000     747.000000   \n",
       "50%            1.275230e+05           16658.000000    7879.000000   \n",
       "75%            2.835050e+05           27486.500000   34111.500000   \n",
       "max            7.558435e+06          175791.000000  635057.000000   \n",
       "\n",
       "              Sales  \n",
       "count  3.051000e+03  \n",
       "mean   1.859014e+05  \n",
       "std    2.322079e+05  \n",
       "min    1.543600e+04  \n",
       "25%    7.339350e+04  \n",
       "50%    1.135730e+05  \n",
       "75%    2.029755e+05  \n",
       "max    3.575430e+06  "
      ]
     },
     "execution_count": 4,
     "metadata": {},
     "output_type": "execute_result"
    }
   ],
   "source": [
    "data.describe()"
   ]
  },
  {
   "cell_type": "code",
   "execution_count": 5,
   "id": "e20b8145",
   "metadata": {},
   "outputs": [
    {
     "name": "stdout",
     "output_type": "stream",
     "text": [
      "<class 'pandas.core.frame.DataFrame'>\n",
      "RangeIndex: 3051 entries, 0 to 3050\n",
      "Data columns (total 10 columns):\n",
      " #   Column                 Non-Null Count  Dtype  \n",
      "---  ------                 --------------  -----  \n",
      " 0   Division               3051 non-null   object \n",
      " 1   Calendar_Week          3051 non-null   object \n",
      " 2   Paid_Views             3051 non-null   int64  \n",
      " 3   Organic_Views          3051 non-null   int64  \n",
      " 4   Google_Impressions     3051 non-null   int64  \n",
      " 5   Email_Impressions      3051 non-null   float64\n",
      " 6   Facebook_Impressions   3051 non-null   int64  \n",
      " 7   Affiliate_Impressions  3051 non-null   int64  \n",
      " 8   Overall_Views          3051 non-null   int64  \n",
      " 9   Sales                  3051 non-null   int64  \n",
      "dtypes: float64(1), int64(7), object(2)\n",
      "memory usage: 238.5+ KB\n"
     ]
    }
   ],
   "source": [
    "data.info()"
   ]
  },
  {
   "cell_type": "markdown",
   "id": "52710fd8",
   "metadata": {},
   "source": [
    "### MISSING VALUES ARE DROPPED:"
   ]
  },
  {
   "cell_type": "code",
   "execution_count": 6,
   "id": "4d5a18e7",
   "metadata": {},
   "outputs": [
    {
     "data": {
      "text/html": [
       "<div>\n",
       "<style scoped>\n",
       "    .dataframe tbody tr th:only-of-type {\n",
       "        vertical-align: middle;\n",
       "    }\n",
       "\n",
       "    .dataframe tbody tr th {\n",
       "        vertical-align: top;\n",
       "    }\n",
       "\n",
       "    .dataframe thead th {\n",
       "        text-align: right;\n",
       "    }\n",
       "</style>\n",
       "<table border=\"1\" class=\"dataframe\">\n",
       "  <thead>\n",
       "    <tr style=\"text-align: right;\">\n",
       "      <th></th>\n",
       "      <th>Division</th>\n",
       "      <th>Calendar_Week</th>\n",
       "      <th>Paid_Views</th>\n",
       "      <th>Organic_Views</th>\n",
       "      <th>Google_Impressions</th>\n",
       "      <th>Email_Impressions</th>\n",
       "      <th>Facebook_Impressions</th>\n",
       "      <th>Affiliate_Impressions</th>\n",
       "      <th>Overall_Views</th>\n",
       "      <th>Sales</th>\n",
       "    </tr>\n",
       "  </thead>\n",
       "  <tbody>\n",
       "    <tr>\n",
       "      <th>0</th>\n",
       "      <td>A</td>\n",
       "      <td>1/6/2018</td>\n",
       "      <td>392</td>\n",
       "      <td>422</td>\n",
       "      <td>408</td>\n",
       "      <td>3.498950e+05</td>\n",
       "      <td>73580</td>\n",
       "      <td>12072</td>\n",
       "      <td>682</td>\n",
       "      <td>59417</td>\n",
       "    </tr>\n",
       "    <tr>\n",
       "      <th>1</th>\n",
       "      <td>A</td>\n",
       "      <td>1/13/2018</td>\n",
       "      <td>787</td>\n",
       "      <td>904</td>\n",
       "      <td>110</td>\n",
       "      <td>5.062702e+05</td>\n",
       "      <td>11804</td>\n",
       "      <td>9499</td>\n",
       "      <td>853</td>\n",
       "      <td>56806</td>\n",
       "    </tr>\n",
       "    <tr>\n",
       "      <th>2</th>\n",
       "      <td>A</td>\n",
       "      <td>1/20/2018</td>\n",
       "      <td>81</td>\n",
       "      <td>970</td>\n",
       "      <td>742</td>\n",
       "      <td>4.300422e+05</td>\n",
       "      <td>52232</td>\n",
       "      <td>17048</td>\n",
       "      <td>759</td>\n",
       "      <td>48715</td>\n",
       "    </tr>\n",
       "    <tr>\n",
       "      <th>3</th>\n",
       "      <td>A</td>\n",
       "      <td>1/27/2018</td>\n",
       "      <td>25</td>\n",
       "      <td>575</td>\n",
       "      <td>65</td>\n",
       "      <td>4.177457e+05</td>\n",
       "      <td>78640</td>\n",
       "      <td>10207</td>\n",
       "      <td>942</td>\n",
       "      <td>72047</td>\n",
       "    </tr>\n",
       "    <tr>\n",
       "      <th>4</th>\n",
       "      <td>A</td>\n",
       "      <td>2/3/2018</td>\n",
       "      <td>565</td>\n",
       "      <td>284</td>\n",
       "      <td>295</td>\n",
       "      <td>4.085058e+05</td>\n",
       "      <td>40561</td>\n",
       "      <td>5834</td>\n",
       "      <td>658</td>\n",
       "      <td>56235</td>\n",
       "    </tr>\n",
       "    <tr>\n",
       "      <th>...</th>\n",
       "      <td>...</td>\n",
       "      <td>...</td>\n",
       "      <td>...</td>\n",
       "      <td>...</td>\n",
       "      <td>...</td>\n",
       "      <td>...</td>\n",
       "      <td>...</td>\n",
       "      <td>...</td>\n",
       "      <td>...</td>\n",
       "      <td>...</td>\n",
       "    </tr>\n",
       "    <tr>\n",
       "      <th>3046</th>\n",
       "      <td>Z</td>\n",
       "      <td>2/1/2020</td>\n",
       "      <td>29239</td>\n",
       "      <td>25311</td>\n",
       "      <td>622406</td>\n",
       "      <td>1.459071e+06</td>\n",
       "      <td>45026</td>\n",
       "      <td>12098</td>\n",
       "      <td>53667</td>\n",
       "      <td>82707</td>\n",
       "    </tr>\n",
       "    <tr>\n",
       "      <th>3047</th>\n",
       "      <td>Z</td>\n",
       "      <td>2/8/2020</td>\n",
       "      <td>26230</td>\n",
       "      <td>28031</td>\n",
       "      <td>624409</td>\n",
       "      <td>5.342505e+05</td>\n",
       "      <td>227070</td>\n",
       "      <td>9548</td>\n",
       "      <td>53665</td>\n",
       "      <td>84503</td>\n",
       "    </tr>\n",
       "    <tr>\n",
       "      <th>3048</th>\n",
       "      <td>Z</td>\n",
       "      <td>2/15/2020</td>\n",
       "      <td>24749</td>\n",
       "      <td>31281</td>\n",
       "      <td>439362</td>\n",
       "      <td>4.227182e+05</td>\n",
       "      <td>393685</td>\n",
       "      <td>9861</td>\n",
       "      <td>55561</td>\n",
       "      <td>147325</td>\n",
       "    </tr>\n",
       "    <tr>\n",
       "      <th>3049</th>\n",
       "      <td>Z</td>\n",
       "      <td>2/22/2020</td>\n",
       "      <td>20713</td>\n",
       "      <td>30356</td>\n",
       "      <td>464178</td>\n",
       "      <td>6.085799e+05</td>\n",
       "      <td>424676</td>\n",
       "      <td>10221</td>\n",
       "      <td>49221</td>\n",
       "      <td>111525</td>\n",
       "    </tr>\n",
       "    <tr>\n",
       "      <th>3050</th>\n",
       "      <td>Z</td>\n",
       "      <td>2/29/2020</td>\n",
       "      <td>15990</td>\n",
       "      <td>26993</td>\n",
       "      <td>449032</td>\n",
       "      <td>4.390165e+05</td>\n",
       "      <td>161439</td>\n",
       "      <td>10294</td>\n",
       "      <td>42994</td>\n",
       "      <td>98187</td>\n",
       "    </tr>\n",
       "  </tbody>\n",
       "</table>\n",
       "<p>3051 rows × 10 columns</p>\n",
       "</div>"
      ],
      "text/plain": [
       "     Division Calendar_Week  Paid_Views  Organic_Views  Google_Impressions  \\\n",
       "0           A      1/6/2018         392            422                 408   \n",
       "1           A     1/13/2018         787            904                 110   \n",
       "2           A     1/20/2018          81            970                 742   \n",
       "3           A     1/27/2018          25            575                  65   \n",
       "4           A      2/3/2018         565            284                 295   \n",
       "...       ...           ...         ...            ...                 ...   \n",
       "3046        Z      2/1/2020       29239          25311              622406   \n",
       "3047        Z      2/8/2020       26230          28031              624409   \n",
       "3048        Z     2/15/2020       24749          31281              439362   \n",
       "3049        Z     2/22/2020       20713          30356              464178   \n",
       "3050        Z     2/29/2020       15990          26993              449032   \n",
       "\n",
       "      Email_Impressions  Facebook_Impressions  Affiliate_Impressions  \\\n",
       "0          3.498950e+05                 73580                  12072   \n",
       "1          5.062702e+05                 11804                   9499   \n",
       "2          4.300422e+05                 52232                  17048   \n",
       "3          4.177457e+05                 78640                  10207   \n",
       "4          4.085058e+05                 40561                   5834   \n",
       "...                 ...                   ...                    ...   \n",
       "3046       1.459071e+06                 45026                  12098   \n",
       "3047       5.342505e+05                227070                   9548   \n",
       "3048       4.227182e+05                393685                   9861   \n",
       "3049       6.085799e+05                424676                  10221   \n",
       "3050       4.390165e+05                161439                  10294   \n",
       "\n",
       "      Overall_Views   Sales  \n",
       "0               682   59417  \n",
       "1               853   56806  \n",
       "2               759   48715  \n",
       "3               942   72047  \n",
       "4               658   56235  \n",
       "...             ...     ...  \n",
       "3046          53667   82707  \n",
       "3047          53665   84503  \n",
       "3048          55561  147325  \n",
       "3049          49221  111525  \n",
       "3050          42994   98187  \n",
       "\n",
       "[3051 rows x 10 columns]"
      ]
     },
     "execution_count": 6,
     "metadata": {},
     "output_type": "execute_result"
    }
   ],
   "source": [
    "data.dropna()"
   ]
  },
  {
   "cell_type": "markdown",
   "id": "1db5b274",
   "metadata": {},
   "source": [
    "### DESCRIPTIVE STATISTICS USING BOX PLOT: EFFECT OF GOOGLE IMPRESSIONS ON SALES:"
   ]
  },
  {
   "cell_type": "code",
   "execution_count": 7,
   "id": "3eefa5a5",
   "metadata": {},
   "outputs": [
    {
     "data": {
      "text/plain": [
       "<AxesSubplot:xlabel='Google_Impressions', ylabel='Sales'>"
      ]
     },
     "execution_count": 7,
     "metadata": {},
     "output_type": "execute_result"
    },
    {
     "data": {
      "image/png": "[encoded data removed]",
      "text/plain": [
       "<Figure size 432x288 with 1 Axes>"
      ]
     },
     "metadata": {
      "needs_background": "light"
     },
     "output_type": "display_data"
    }
   ],
   "source": [
    "sns.boxplot(x=\"Google_Impressions\",y=\"Sales\",data=data)"
   ]
  },
  {
   "cell_type": "markdown",
   "id": "976a15d5",
   "metadata": {},
   "source": [
    "### EFFECT OF EMAIL IMPRESSIONS ON SALES:"
   ]
  },
  {
   "cell_type": "code",
   "execution_count": 8,
   "id": "011503f8",
   "metadata": {},
   "outputs": [
    {
     "data": {
      "text/plain": [
       "<AxesSubplot:xlabel='Email_Impressions', ylabel='Sales'>"
      ]
     },
     "execution_count": 8,
     "metadata": {},
     "output_type": "execute_result"
    },
    {
     "data": {
      "image/png": "[encoded data removed]",
      "text/plain": [
       "<Figure size 432x288 with 1 Axes>"
      ]
     },
     "metadata": {
      "needs_background": "light"
     },
     "output_type": "display_data"
    }
   ],
   "source": [
    "sns.boxplot(x=\"Email_Impressions\",y=\"Sales\",data=data)"
   ]
  },
  {
   "cell_type": "markdown",
   "id": "7677ec6c",
   "metadata": {},
   "source": [
    "### EFFECT OF FACEBOOK IMPRESSIONS ON SALES:"
   ]
  },
  {
   "cell_type": "code",
   "execution_count": 9,
   "id": "9db0fdda",
   "metadata": {},
   "outputs": [
    {
     "data": {
      "text/plain": [
       "<AxesSubplot:xlabel='Facebook_Impressions', ylabel='Sales'>"
      ]
     },
     "execution_count": 9,
     "metadata": {},
     "output_type": "execute_result"
    },
    {
     "data": {
      "image/png": "[encoded data removed]",
      "text/plain": [
       "<Figure size 432x288 with 1 Axes>"
      ]
     },
     "metadata": {
      "needs_background": "light"
     },
     "output_type": "display_data"
    }
   ],
   "source": [
    "sns.boxplot(x=\"Facebook_Impressions\",y=\"Sales\",data=data)"
   ]
  },
  {
   "cell_type": "markdown",
   "id": "475e35f8",
   "metadata": {},
   "source": [
    "### SCATTER PLOT ANALYSIS :"
   ]
  },
  {
   "cell_type": "code",
   "execution_count": 10,
   "id": "008a399f",
   "metadata": {},
   "outputs": [
    {
     "data": {
      "text/plain": [
       "<matplotlib.collections.PathCollection at 0x26995cc2af0>"
      ]
     },
     "execution_count": 10,
     "metadata": {},
     "output_type": "execute_result"
    },
    {
     "data": {
      "image/png": "[encoded data removed]",
      "text/plain": [
       "<Figure size 432x288 with 1 Axes>"
      ]
     },
     "metadata": {
      "needs_background": "light"
     },
     "output_type": "display_data"
    }
   ],
   "source": [
    "x=data[\"Calendar_Week\"]\n",
    "y=data[\"Sales\"]\n",
    "plt.scatter(x,y)"
   ]
  },
  {
   "cell_type": "markdown",
   "id": "5c4be2f3",
   "metadata": {},
   "source": [
    "### ANALYSING CORELATION OF OTHER COLUMN WITH SALES USING HEATMAP:"
   ]
  },
  {
   "cell_type": "markdown",
   "id": "d3e96fa6",
   "metadata": {},
   "source": [
    "#### ANALYSIS OF PAID VIEWS OF DIVISIONS OVER SALES"
   ]
  },
  {
   "cell_type": "code",
   "execution_count": 11,
   "id": "970faab6",
   "metadata": {},
   "outputs": [
    {
     "data": {
      "image/png": "[encoded data removed]",
      "text/plain": [
       "<Figure size 432x288 with 2 Axes>"
      ]
     },
     "metadata": {
      "needs_background": "light"
     },
     "output_type": "display_data"
    }
   ],
   "source": [
    "data_pivot=data.pivot_table(values='Sales',index='Paid_Views',columns='Division')\t\n",
    "plt.pcolor(data_pivot,cmap='RdBu')\n",
    "plt.colorbar()\n",
    "plt.show()"
   ]
  }
 ],
 "metadata": {
  "kernelspec": {
   "display_name": "Python 3 (ipykernel)",
   "language": "python",
   "name": "python3"
  },
  "language_info": {
   "codemirror_mode": {
    "name": "ipython",
    "version": 3
   },
   "file_extension": ".py",
   "mimetype": "text/x-python",
   "name": "python",
   "nbconvert_exporter": "python",
   "pygments_lexer": "ipython3",
   "version": "3.9.7"
  }
 },
 "nbformat": 4,
 "nbformat_minor": 5
}
